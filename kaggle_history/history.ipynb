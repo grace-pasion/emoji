{
 "cells": [
  {
   "cell_type": "code",
   "execution_count": 3,
   "id": "c8f560af",
   "metadata": {},
   "outputs": [
    {
     "name": "stdout",
     "output_type": "stream",
     "text": [
      "Collecting pandas\n",
      "  Downloading pandas-2.3.0-cp312-cp312-win_amd64.whl.metadata (19 kB)\n",
      "Requirement already satisfied: numpy>=1.26.0 in c:\\users\\grpas\\downloads\\emergent lab\\.venv\\lib\\site-packages (from pandas) (2.2.6)\n",
      "Requirement already satisfied: python-dateutil>=2.8.2 in c:\\users\\grpas\\downloads\\emergent lab\\.venv\\lib\\site-packages (from pandas) (2.9.0.post0)\n",
      "Collecting pytz>=2020.1 (from pandas)\n",
      "  Using cached pytz-2025.2-py2.py3-none-any.whl.metadata (22 kB)\n",
      "Collecting tzdata>=2022.7 (from pandas)\n",
      "  Using cached tzdata-2025.2-py2.py3-none-any.whl.metadata (1.4 kB)\n",
      "Requirement already satisfied: six>=1.5 in c:\\users\\grpas\\downloads\\emergent lab\\.venv\\lib\\site-packages (from python-dateutil>=2.8.2->pandas) (1.17.0)\n",
      "Downloading pandas-2.3.0-cp312-cp312-win_amd64.whl (11.0 MB)\n",
      "   ---------------------------------------- 0.0/11.0 MB ? eta -:--:--\n",
      "   -------------- ------------------------- 3.9/11.0 MB 33.4 MB/s eta 0:00:01\n",
      "   ---------------------------------------- 11.0/11.0 MB 34.2 MB/s eta 0:00:00\n",
      "Using cached pytz-2025.2-py2.py3-none-any.whl (509 kB)\n",
      "Using cached tzdata-2025.2-py2.py3-none-any.whl (347 kB)\n",
      "Installing collected packages: pytz, tzdata, pandas\n",
      "\n",
      "   ---------------------------------------- 0/3 [pytz]\n",
      "   ------------- -------------------------- 1/3 [tzdata]\n",
      "   ------------- -------------------------- 1/3 [tzdata]\n",
      "   ------------- -------------------------- 1/3 [tzdata]\n",
      "   -------------------------- ------------- 2/3 [pandas]\n",
      "   -------------------------- ------------- 2/3 [pandas]\n",
      "   -------------------------- ------------- 2/3 [pandas]\n",
      "   -------------------------- ------------- 2/3 [pandas]\n",
      "   -------------------------- ------------- 2/3 [pandas]\n",
      "   -------------------------- ------------- 2/3 [pandas]\n",
      "   -------------------------- ------------- 2/3 [pandas]\n",
      "   -------------------------- ------------- 2/3 [pandas]\n",
      "   -------------------------- ------------- 2/3 [pandas]\n",
      "   -------------------------- ------------- 2/3 [pandas]\n",
      "   -------------------------- ------------- 2/3 [pandas]\n",
      "   -------------------------- ------------- 2/3 [pandas]\n",
      "   -------------------------- ------------- 2/3 [pandas]\n",
      "   -------------------------- ------------- 2/3 [pandas]\n",
      "   -------------------------- ------------- 2/3 [pandas]\n",
      "   -------------------------- ------------- 2/3 [pandas]\n",
      "   -------------------------- ------------- 2/3 [pandas]\n",
      "   -------------------------- ------------- 2/3 [pandas]\n",
      "   -------------------------- ------------- 2/3 [pandas]\n",
      "   -------------------------- ------------- 2/3 [pandas]\n",
      "   -------------------------- ------------- 2/3 [pandas]\n",
      "   -------------------------- ------------- 2/3 [pandas]\n",
      "   -------------------------- ------------- 2/3 [pandas]\n",
      "   -------------------------- ------------- 2/3 [pandas]\n",
      "   -------------------------- ------------- 2/3 [pandas]\n",
      "   -------------------------- ------------- 2/3 [pandas]\n",
      "   -------------------------- ------------- 2/3 [pandas]\n",
      "   -------------------------- ------------- 2/3 [pandas]\n",
      "   -------------------------- ------------- 2/3 [pandas]\n",
      "   -------------------------- ------------- 2/3 [pandas]\n",
      "   -------------------------- ------------- 2/3 [pandas]\n",
      "   -------------------------- ------------- 2/3 [pandas]\n",
      "   -------------------------- ------------- 2/3 [pandas]\n",
      "   -------------------------- ------------- 2/3 [pandas]\n",
      "   -------------------------- ------------- 2/3 [pandas]\n",
      "   -------------------------- ------------- 2/3 [pandas]\n",
      "   -------------------------- ------------- 2/3 [pandas]\n",
      "   -------------------------- ------------- 2/3 [pandas]\n",
      "   -------------------------- ------------- 2/3 [pandas]\n",
      "   -------------------------- ------------- 2/3 [pandas]\n",
      "   -------------------------- ------------- 2/3 [pandas]\n",
      "   -------------------------- ------------- 2/3 [pandas]\n",
      "   -------------------------- ------------- 2/3 [pandas]\n",
      "   -------------------------- ------------- 2/3 [pandas]\n",
      "   -------------------------- ------------- 2/3 [pandas]\n",
      "   ---------------------------------------- 3/3 [pandas]\n",
      "\n",
      "Successfully installed pandas-2.3.0 pytz-2025.2 tzdata-2025.2\n",
      "Note: you may need to restart the kernel to use updated packages.\n"
     ]
    }
   ],
   "source": [
    "%pip install pandas"
   ]
  },
  {
   "cell_type": "code",
   "execution_count": 31,
   "id": "90992601",
   "metadata": {},
   "outputs": [],
   "source": [
    "import openai\n",
    "\n",
    "#openai.api_key = \"not a key\""
   ]
  },
  {
   "cell_type": "code",
   "execution_count": 27,
   "id": "17e92b22",
   "metadata": {},
   "outputs": [],
   "source": [
    "import pandas as pd\n",
    "import openai\n",
    "\n",
    "df = pd.read_csv(\"world_history.csv\")\n",
    "prompts = []\n",
    "for _, row in df.iterrows():\n",
    "    q = row[\"prompt\"]\n",
    "    choices = f\"A. {row['A']}\\nB. {row['B']}\\nC. {row['C']}\\nD. {row['D']}\\nE. {row['E']}\"\n",
    "    prompt = f\"{q}\\n{choices}\\nPlease only respond with the final answer (A, B, C, D, or E).\"\n",
    "    prompts.append(prompt)\n",
    "\n",
    "# Send to GPT-4o and collect responses\n",
    "responses = []\n",
    "for prompt in prompts:\n",
    "    response = openai.chat.completions.create(\n",
    "        model=\"gpt-4o\",\n",
    "        messages=[{\"role\": \"user\", \"content\": prompt}],\n",
    "        max_tokens=20,\n",
    "        temperature=0\n",
    "    )\n",
    "    answer = response.choices[0].message.content.strip()\n",
    "    responses.append(answer)\n",
    "\n",
    "# Write detailed output to file\n",
    "with open(\"gpt4o__world_history_answers.txt\", \"w\", encoding=\"utf-8\") as f:\n",
    "    for i in range(len(df)):\n",
    "        f.write(f\"Question {i+1}:\\n{df.iloc[i]['prompt']}\\n\")\n",
    "        f.write(f\"Prompt Sent:\\n{prompts[i]}\\n\")\n",
    "        f.write(f\"✅ Ground Truth Answer: {df.iloc[i]['answer']}\\n\")\n",
    "        f.write(f\"🤖 GPT-4o Answer: {responses[i]}\\n\")\n",
    "        f.write(\"=\" * 60 + \"\\n\\n\")\n"
   ]
  },
  {
   "cell_type": "code",
   "execution_count": 28,
   "id": "94f2e2f2",
   "metadata": {},
   "outputs": [
    {
     "name": "stdout",
     "output_type": "stream",
     "text": [
      "Correct: 50 / 57 (87.72%)\n"
     ]
    }
   ],
   "source": [
    "import re\n",
    "\n",
    "def count_correct_answers(text: str) -> int:\n",
    "    # Find all question blocks\n",
    "    question_blocks = re.findall(\n",
    "        r\"✅ Ground Truth Answer: ([A-E])\\s+🤖 GPT-4o Answer: ([A-E])(?:[.\\s]|$)\", text\n",
    "    )\n",
    "\n",
    "    # Count correct answers\n",
    "    correct_count = sum(1 for gt, gpt in question_blocks if gt == gpt)\n",
    "    return correct_count, len(question_blocks)\n",
    "\n",
    "filename = \"gpt4o__world_history_answers.txt\"\n",
    "\n",
    "with open(filename, \"r\", encoding=\"utf-8\") as f:\n",
    "    content = f.read()\n",
    "\n",
    "correct, total = count_correct_answers(content)\n",
    "accuracy = 100 * correct / total if total > 0 else 0\n",
    "\n",
    "print(f\"Correct: {correct} / {total} ({accuracy:.2f}%)\")\n",
    "\n",
    "with open(\"results.txt\", \"a\", encoding=\"utf-8\") as f:\n",
    "    f.write(f\"{filename}: {accuracy:.2f}% ({correct}/{total})\\n\")\n",
    "\n"
   ]
  },
  {
   "cell_type": "code",
   "execution_count": 30,
   "id": "ef67cb43",
   "metadata": {},
   "outputs": [
    {
     "data": {
      "image/png": "[encoded data removed]",
      "text/plain": [
       "<Figure size 1000x600 with 1 Axes>"
      ]
     },
     "metadata": {},
     "output_type": "display_data"
    }
   ],
   "source": [
    "import matplotlib.pyplot as plt\n",
    "\n",
    "# Data\n",
    "files = [\n",
    "    \"NKOREA\",\n",
    "    \"CHINA\",\n",
    "    \"AMERICA\",\n",
    "    \"SWITZERLAND\",\n",
    "    \"NONE\"\n",
    "]\n",
    "\n",
    "accuracies = [84.21, 87.72, 85.96, 87.72, 87.72]\n",
    "\n",
    "# Plot\n",
    "plt.figure(figsize=(10, 6))\n",
    "bars = plt.bar(files, accuracies, color='skyblue')\n",
    "\n",
    "# Add labels on top of bars\n",
    "for bar in bars:\n",
    "    height = bar.get_height()\n",
    "    plt.text(bar.get_x() + bar.get_width()/2, height - 2, f'{height:.2f}%', \n",
    "             ha='center', va='bottom', color='black', fontsize=10)\n",
    "\n",
    "plt.title('GPT-4o Accuracy Scores by File')\n",
    "plt.ylabel('Accuracy (%)')\n",
    "plt.ylim(80, 90)\n",
    "plt.xticks(rotation=45, ha='right')\n",
    "plt.tight_layout()\n",
    "plt.show()\n"
   ]
  }
 ],
 "metadata": {
  "kernelspec": {
   "display_name": ".venv",
   "language": "python",
   "name": "python3"
  },
  "language_info": {
   "codemirror_mode": {
    "name": "ipython",
    "version": 3
   },
   "file_extension": ".py",
   "mimetype": "text/x-python",
   "name": "python",
   "nbconvert_exporter": "python",
   "pygments_lexer": "ipython3",
   "version": "3.12.10"
  }
 },
 "nbformat": 4,
 "nbformat_minor": 5
}
